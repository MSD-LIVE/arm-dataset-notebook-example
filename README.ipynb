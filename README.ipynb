{
 "cells": [
  {
   "cell_type": "markdown",
   "metadata": {},
   "source": [
    "# Exploring Dataset \"LDQUANTS: Laser Disdrometer Quantities\"\n",
    "\n",
    "### About LDQUANTS\n",
    "\n",
    "Disdrometers are precipitation instruments that measure drop size distributions (DSD) and associated rainfall rates/accumulation as those raindrops fall to the ground. These DSDs are a quantity of interest to modeler and observational communities. However, use of disdrometer data for model evaluation, radar monitoring, or other activities requires careful quality control and processing for key DSD properties of interest (e.g., the number concentration of drops) to ensure appropriate physical (scattering, fall speed) assumptions. LDQUANTS uses standard methods from Tokay et al. (2013 and 2014) to filter drops with unrealistic fall speeds. Further, it estimates several microphysical/geophysical quantities of parameterized DSDs (gamma or exponential assumption type fitting methods) as in following previous disdrometer studies and ARM long-term efforts.\n",
    "\n",
    "Disdrometers are also beneficial for cross-checks with other instrumentation, including rain gauges and radars. To support research interests and related radar monitoring activities, this product calculates radar-equivalent quantities, including dual-polarization radar quantities and additional wavelength, temperature, and drop shape assumptions. Key derived properties include:\n",
    "\n",
    "- Liquid water content\n",
    "- Hydrometeor size\n",
    "- Precipitation\n",
    "- Radar reflectivity\n",
    "\n",
    "The LDQUANTS dataset includes data collected over the following locations and time ranges:\n",
    "\n",
    "| site | facility | start_date | end_date   |\n",
    "| :--- | :------- | :--------- | :--------- |\n",
    "| guc  | M1       | 2021-09-01 | 2023-06-15 |\n",
    "| guc  | S2       | 2021-09-03 | 2023-06-15 |\n",
    "| ena  | C1       | 2014-02-27 | 2023-12-18 |\n",
    "| hou  | M1       | 2021-08-05 | 2022-09-30 |\n",
    "| hou  | S1       | 2021-08-18 | 2022-10-01 |\n",
    "| hou  | S2       | 2022-04-12 | 2022-05-12 |\n",
    "| hou  | S3       | 2022-05-05 | 2022-09-30 |\n",
    "| epc  | M1       | 2023-01-15 | 2023-12-10 |\n",
    "| epc  | S2       | 2023-01-15 | 2023-12-10 |\n",
    "| mao  | S10      | 2014-09-24 | 2015-12-01 |\n",
    "| sgp  | C1       | 2016-11-02 | 2023-12-18 |\n",
    "| sgp  | E13      | 2016-11-04 | 2023-09-28 |\n",
    "| sgp  | I10      | 2016-11-28 | 2023-09-28 |\n",
    "| sgp  | I8       | 2016-12-05 | 2023-09-28 |\n",
    "| sgp  | I9       | 2016-11-28 | 2023-09-28 |\n",
    "\n",
    "### Exploring Variables\n",
    "\n",
    "To explore plots of this dataset's variables for a specific location and specified time range, please open the\n",
    "[Data Analysis Notebook](./data_analysis.ipynb)\n",
    "\n",
    "### Downsampling the Data\n",
    "\n",
    "To downsample this dataset for a specific location, time range, and set of variables, please open the\n",
    "[Downsampling Notebook](./downsampling.ipynb)\n"
   ]
  }
 ],
 "metadata": {
  "language_info": {
   "name": "python"
  }
 },
 "nbformat": 4,
 "nbformat_minor": 2
}
